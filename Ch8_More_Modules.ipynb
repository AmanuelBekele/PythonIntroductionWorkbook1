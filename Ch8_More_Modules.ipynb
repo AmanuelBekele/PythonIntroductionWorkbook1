{
 "cells": [
  {
   "cell_type": "markdown",
   "metadata": {},
   "source": [
    "## More Modules\n",
    "<p>There are some procedures already built in to Python (print, for example). Modules (sometimes known as libraries in other languages) are collections of extra procedures and functions that are pre-written.\n",
    "<p/>\n",
    "Try this program first. It won’t work, but I’m trying to prove a point (sqrt is short for square root):\n",
    "```python\n",
    "number = 49\n",
    "answer = sqrt(49)\n",
    "print(answer)\n",
    "```"
   ]
  },
  {
   "cell_type": "code",
   "execution_count": null,
   "metadata": {
    "collapsed": true
   },
   "outputs": [],
   "source": []
  },
  {
   "cell_type": "markdown",
   "metadata": {},
   "source": [
    "Now try this one:\n",
    "```python\n",
    "import math\n",
    "number = 49\n",
    "answer = math.sqrt(49)\n",
    "print(answer)\n",
    "```\n",
    "You can find a list of modules at http://docs.python.org/py3k/modindex.html "
   ]
  },
  {
   "cell_type": "code",
   "execution_count": null,
   "metadata": {
    "collapsed": true
   },
   "outputs": [],
   "source": []
  },
  {
   "cell_type": "markdown",
   "metadata": {},
   "source": [
    "### Task 1: Import a module\n",
    "Go to the list of modules, import one and write a small program using a pre-written function or procedure. \n",
    "<br/>\n",
    "Write your program below:"
   ]
  },
  {
   "cell_type": "code",
   "execution_count": null,
   "metadata": {
    "collapsed": true
   },
   "outputs": [],
   "source": []
  }
 ],
 "metadata": {
  "kernelspec": {
   "display_name": "Python 3",
   "language": "python",
   "name": "python3"
  },
  "language_info": {
   "codemirror_mode": {
    "name": "ipython",
    "version": 3
   },
   "file_extension": ".py",
   "mimetype": "text/x-python",
   "name": "python",
   "nbconvert_exporter": "python",
   "pygments_lexer": "ipython3",
   "version": "3.5.2"
  }
 },
 "nbformat": 4,
 "nbformat_minor": 2
}
